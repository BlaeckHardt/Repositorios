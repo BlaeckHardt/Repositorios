{
 "cells": [
  {
   "cell_type": "markdown",
   "metadata": {},
   "source": [
    "# Ejemplo 1 (esto es un titulo): \n",
    "##    Este es un ejemplo de como usamos el codigo para escribir lineas en python. (esto es un sutitulo)\n",
    "##    Este es un sub sub titulo\n",
    "Esto es solo texto\n"
   ]
  },
  {
   "cell_type": "code",
   "execution_count": null,
   "metadata": {},
   "outputs": [],
   "source": [
    "#Este programa debe tener su analogo en C y C++ \n",
    "import math \n",
    "from math import * \n",
    "a=int(input(\"Inserte semilla (8 digitos) \")) #semilla \n",
    "b=int(input(\"¿Cuantos digitos quiere? \")) #digitos \n",
    "z=1 #contador \n",
    "while z<=b: \n",
    "  #print a \n",
    "  al=a/10000 #al=aleatorio \n",
    "  al=int(al) \n",
    "  al=al/10000 \n",
    "  a=a/100# \n",
    "  a=int(a) \n",
    "  c=a/10000#c es num \n",
    "  c=int(c) \n",
    "  c=c*10000 \n",
    "  a=a-c \n",
    "  print (\"Numero aleatorio: \",al) \n",
    "  a=a**2 \n",
    "  #print a \n",
    "  z=z+1 \n"
   ]
  },
  {
   "cell_type": "markdown",
   "metadata": {},
   "source": [
    "##    b) Usar la función random( ) para simular 1000 volados.\n"
   ]
  },
  {
   "cell_type": "code",
   "execution_count": null,
   "metadata": {},
   "outputs": [],
   "source": [
    "import random",
    "x = random.random() \n",
    "b = str(input(\"Escoge, ¿aguila o sol? \"))\n",
    "print(\"\")\n",
    "count = 0 \n",
    "sol = 0 \n",
    "aguila = 0 \n",
    "while count < 1000:\n",
    "  y = random.random()\n",
    "  if y < 0.5:\n",
    "    sol = sol+1 \n",
    "  else:\n",
    "    aguila = aguila+1 \n",
    "  count = count+1 \n",
    "if sol < aguila:\n",
    "  if b = = 'aguila':\n",
    "    print (\"Aguila, ¡Ganaste!\")\n",
    "  else:\n",
    "    print (\"Aguila, ¡Perdiste! xD\")\n",
    "else:\n",
    "  if b = = 'sol':\n",
    "    print (\"Sol, ¡Ganaste!\")\n",
    "  else:\n",
    "    print (\"Sol, ¡Perdiste! xD\")\n"
   ]
  },
  {
   "cell_type": "markdown",
   "metadata": {},
   "source": [
    "##    c) Determinar de b) la probabilidad de que ocurra \"sol\" en un volado.\n"
   ]
  },
  {
   "cell_type": "code",
   "execution_count": null,
   "metadata": {},
   "outputs": [],
   "source": [
    "import random",
    "x = random.random() \n",
    "b = str(input(\"Escoge, ¿aguila o sol? \"))\n",
    "print(\"\")\n",
    "count = 0 \n",
    "sol = 0 \n",
    "aguila = 0 \n",
    "while count < 1000:\n",
    "  y = random.random()\n",
    "  if y < 0.5:\n",
    "    sol = sol+1 \n",
    "  else:\n",
    "    aguila = aguila+1 \n",
    "  count = count+1 \n",
    "PA = aguila/count \n",
    "PS = sol/count \n",
    "print(\"\")\n",
    "print(\"La probabilidad de obtener aguila era de: \",PA)\n",
    "print(\"La probabilidad de obtener sol era de: \",PS)\n",
    "print(\"\")\n"
   ]
  }
 ],
 "metadata": {
  "kernelspec": {
   "display_name": "Python 3",
   "language": "python",
   "name": "python3"
  },
  "language_info": {
   "codemirror_mode": {
    "name": "ipython",
    "version": 3
   },
   "file_extension": ".py",
   "mimetype": "text/x-python",
   "name": "python",
   "nbconvert_exporter": "python",
   "pygments_lexer": "ipython3",
   "version": "3.7.3"
  }
 },
 "nbformat": 4,
 "nbformat_minor": 2
}
